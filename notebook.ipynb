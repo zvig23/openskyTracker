{
 "cells": [
  {
   "metadata": {},
   "cell_type": "markdown",
   "source": [
    "b# This is a sample Jupyter Notebook\n",
    "\n",
    "Below is an example of a code cell. \n",
    "Put your cursor into the cell and press Shift+Enter to execute it and select the next one, or click 'Run Cell' button.\n",
    "\n",
    "Press Double Shift to search everywhere for classes, files, tool windows, actions, and settings.\n",
    "\n",
    "To learn more about Jupyter Notebooks in PyCharm, see [help](https://www.jetbrains.com/help/pycharm/ipython-notebook-support.html).\n",
    "For an overview of PyCharm, go to Help -> Learn IDE features or refer to [our documentation](https://www.jetbrains.com/help/pycharm/getting-started.html)."
   ],
   "id": "8a77807f92f26ee"
  },
  {
   "metadata": {
    "ExecuteTime": {
     "end_time": "2025-06-15T20:11:23.332665Z",
     "start_time": "2025-06-15T20:11:20.503012Z"
    }
   },
   "cell_type": "code",
   "source": "! pip install pandas",
   "id": "a01ee094d78e46f7",
   "outputs": [
    {
     "name": "stdout",
     "output_type": "stream",
     "text": [
      "Requirement already satisfied: pandas in c:\\users\\dvirl\\pycharmmiscproject\\.venv\\lib\\site-packages (2.3.0)\n",
      "Requirement already satisfied: numpy>=1.23.2 in c:\\users\\dvirl\\pycharmmiscproject\\.venv\\lib\\site-packages (from pandas) (2.3.0)\n",
      "Requirement already satisfied: python-dateutil>=2.8.2 in c:\\users\\dvirl\\pycharmmiscproject\\.venv\\lib\\site-packages (from pandas) (2.9.0.post0)\n",
      "Requirement already satisfied: pytz>=2020.1 in c:\\users\\dvirl\\pycharmmiscproject\\.venv\\lib\\site-packages (from pandas) (2025.2)\n",
      "Requirement already satisfied: tzdata>=2022.7 in c:\\users\\dvirl\\pycharmmiscproject\\.venv\\lib\\site-packages (from pandas) (2025.2)\n",
      "Requirement already satisfied: six>=1.5 in c:\\users\\dvirl\\pycharmmiscproject\\.venv\\lib\\site-packages (from python-dateutil>=2.8.2->pandas) (1.17.0)\n"
     ]
    }
   ],
   "execution_count": 1
  },
  {
   "metadata": {
    "ExecuteTime": {
     "end_time": "2025-06-16T10:04:28.484908700Z",
     "start_time": "2025-06-16T09:52:57.449687Z"
    }
   },
   "cell_type": "code",
   "source": [
    "import requests\n",
    "import pandas as pd\n",
    "import time\n",
    "\n",
    "def fetch_and_log():\n",
    "    bbox = {'lamin': 10.0, 'lamax': 40.0, 'lomin': 25.0, 'lomax': 60.0} #middle east boundaries\n",
    "    response = requests.get(\"https://opensky-network.org/api/states/all\", params=bbox)\n",
    "    if response.status_code != 200:\n",
    "        print(\"Failed to fetch\")\n",
    "        return\n",
    "\n",
    "    states = response.json().get(\"states\", [])\n",
    "\n",
    "    columns = [\n",
    "        \"icao24\", \"callsign\", \"origin_country\", \"time_position\", \"last_contact\",\n",
    "        \"longitude\", \"latitude\", \"baro_altitude\", \"on_ground\", \"velocity\",\n",
    "        \"true_track\", \"vertical_rate\", \"sensors\", \"geo_altitude\", \"squawk\",\n",
    "        \"spi\", \"position_source\"\n",
    "    ]\n",
    "\n",
    "    df = pd.DataFrame(states, columns=columns)\n",
    "    df = df.dropna(subset=[\"latitude\", \"longitude\", \"time_position\"])\n",
    "    df[\"callsign\"] = df[\"callsign\"].str.strip()\n",
    "    df[\"time\"] = pd.to_datetime(df[\"time_position\"], unit='s', errors='coerce')\n",
    "\n",
    "    df.to_csv(\"flight_log.csv\", mode='a', header=False, index=False)\n",
    "\n",
    "# Run once every 5 minutes\n",
    "c = 0\n",
    "while True:\n",
    "    print(c)\n",
    "    fetch_and_log()\n",
    "    time.sleep(60)\n",
    "    c+=1\n"
   ],
   "id": "fbc121e30a2defb3",
   "outputs": [
    {
     "name": "stdout",
     "output_type": "stream",
     "text": [
      "0\n",
      "1\n",
      "2\n",
      "3\n",
      "4\n",
      "5\n",
      "6\n",
      "7\n",
      "8\n",
      "9\n",
      "10\n",
      "11\n"
     ]
    }
   ],
   "execution_count": null
  },
  {
   "metadata": {},
   "cell_type": "code",
   "outputs": [],
   "execution_count": null,
   "source": "",
   "id": "e1afedc157caa747"
  },
  {
   "metadata": {},
   "cell_type": "code",
   "outputs": [],
   "execution_count": null,
   "source": "",
   "id": "46cffa0e6ebf0224"
  },
  {
   "metadata": {},
   "cell_type": "code",
   "outputs": [],
   "execution_count": null,
   "source": "",
   "id": "4a8415d126543770"
  }
 ],
 "metadata": {
  "kernelspec": {
   "display_name": "Python 3",
   "language": "python",
   "name": "python3"
  },
  "language_info": {
   "codemirror_mode": {
    "name": "ipython",
    "version": 2
   },
   "file_extension": ".py",
   "mimetype": "text/x-python",
   "name": "python",
   "nbconvert_exporter": "python",
   "pygments_lexer": "ipython2",
   "version": "2.7.6"
  }
 },
 "nbformat": 4,
 "nbformat_minor": 5
}
